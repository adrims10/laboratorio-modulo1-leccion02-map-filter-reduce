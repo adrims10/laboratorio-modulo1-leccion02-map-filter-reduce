{
 "cells": [
  {
   "cell_type": "markdown",
   "metadata": {},
   "source": [
    "\n",
    "<div style=\"text-align: center;\">\n",
    "  <img src=\"https://github.com/Hack-io-Data/Imagenes/blob/main/01-LogosHackio/logo_celeste@4x.png?raw=true\" alt=\"esquema\" />\n",
    "</div>\n"
   ]
  },
  {
   "cell_type": "markdown",
   "metadata": {},
   "source": [
    "# Laboratorio de Python: map(), filter() y reduce()"
   ]
  },
  {
   "cell_type": "markdown",
   "metadata": {},
   "source": [
    "## Ejercicio 1. map ()"
   ]
  },
  {
   "cell_type": "markdown",
   "metadata": {},
   "source": [
    "1.1. Dada una lista de números, obtén una nueva lista con el doble de cada valor.\n",
    "\n",
    "1.2. Genera una función que al recibir una frase devuelva una lista con la longitud de cada palabra. Nota: también se puede solucionar con una `lambda`. \n",
    "\n",
    "1.3. Genera una función que convierta una lista de tuplas a una lista de strings, por ejemplo: \n",
    "\n",
    "```python\n",
    "lista_de_tuplas = [(\"Juan\", \"Pérez\"),(\"María\", \"García\"),(\"Luis\", \"Martínez\"),(\"Ana\", \"López\"),(\"Carlos\", \"Sánchez\"),(\"Elena\", \"Fernández\"),(\"Miguel\", \"González\")]\n",
    "\n",
    "\n",
    "# output esperado\n",
    "['Juan Pérez',\n",
    "'María García',\n",
    "'Luis Martínez',\n",
    "'Ana López',\n",
    "'Carlos Sánchez',\n",
    "'Elena Fernández',\n",
    "'Miguel González']\n",
    "```\n",
    "\n",
    "1.4. Crea una función que calcule la diferencia entre los valores correspondientes de dos listas. Debrás restar los elementos de las dos listas, devolviendo una nueva lista con las diferencias. Por ejemplo: \n",
    "\n",
    "```python\n",
    "# input\n",
    "numeros = [4, 8, 15, 16, 23, 42]\n",
    "numeros_2 = [5, 12, 37, 8, 23, 45]\n",
    "\n",
    "# output\n",
    "[1, 4, 22, -8, 0, 3]\n",
    "```\n",
    "\n",
    "1.5. Genera una función la cual, para un conjunto de caracteres, devuelva una lista de tuplas con cada letra en mayúsculas y minúsculas. Importante, no puede haber dos tuplas que contengan las mismas letras. Ejemplo:\n",
    "\n",
    "```python\n",
    "conjunto_caracteres = {'a', 'b', 'E', 'f', 'a', 'i', 'o', 'U', 'a'}\n",
    "\n",
    "# output\n",
    "{('A', 'a'),\n",
    " ('B', 'b'),\n",
    " ('E', 'e'),\n",
    " ('F', 'f'),\n",
    " ('I', 'i'),\n",
    " ('O', 'o'),\n",
    " ('U', 'u')}\n",
    "```\n",
    "\n",
    " "
   ]
  },
  {
   "cell_type": "code",
   "execution_count": 1,
   "metadata": {},
   "outputs": [
    {
     "data": {
      "text/plain": [
       "[4, 8, 12, 16, 14, 2, 4]"
      ]
     },
     "execution_count": 1,
     "metadata": {},
     "output_type": "execute_result"
    }
   ],
   "source": [
    "#1\n",
    "listacaracteres=[2,4,6,8,7,1,2]\n",
    "\n",
    "def doble(numer):\n",
    "    \"\"\" definimos una variable doble en la que pediremos que llame para hacer el doble de la lista.\n",
    "\n",
    "    Args:\n",
    "        (numero)(int):numero al que le haremos el doble.\n",
    "\n",
    "    Returns:\n",
    "        lista[int]: devolvemos una lista de numeros int el doble del la lista inicial.\n",
    "    \"\"\"\n",
    "    return numer*2\n",
    "\n",
    "list(map(doble,listacaracteres))\n"
   ]
  },
  {
   "cell_type": "code",
   "execution_count": 2,
   "metadata": {},
   "outputs": [
    {
     "data": {
      "text/plain": [
       "[4, 5, 4]"
      ]
     },
     "execution_count": 2,
     "metadata": {},
     "output_type": "execute_result"
    }
   ],
   "source": [
    "#2\n",
    "def longitud_palabras(frase):\n",
    "    \"\"\"una funcion la cual pedimos una frase.\n",
    "\n",
    "    Args:\n",
    "        frase (str): cadena de texto que pedimos.\n",
    "\n",
    "    Returns:\n",
    "        list: devolvemos una lista con las longitudes de las palabras del str.\n",
    "    \"\"\"\n",
    "  \n",
    "    return len(frase)\n",
    "\n",
    "frase= 'hola mundo hola'\n",
    "\n",
    "list(map(longitud_palabras,frase.split()))\n"
   ]
  },
  {
   "cell_type": "code",
   "execution_count": 3,
   "metadata": {},
   "outputs": [
    {
     "data": {
      "text/plain": [
       "['Juan Pérez',\n",
       " 'María García',\n",
       " 'Luis Martínez',\n",
       " 'Ana López',\n",
       " 'Carlos Sánchez',\n",
       " 'Elena Fernández',\n",
       " 'Miguel González']"
      ]
     },
     "execution_count": 3,
     "metadata": {},
     "output_type": "execute_result"
    }
   ],
   "source": [
    "#3\n",
    "\n",
    "lista_de_tuplas = [(\"Juan\", \"Pérez\"),(\"María\", \"García\"),(\"Luis\", \"Martínez\"),(\"Ana\", \"López\"),\n",
    "                   (\"Carlos\", \"Sánchez\"),(\"Elena\", \"Fernández\"),(\"Miguel\", \"González\")]\n",
    "def listrastring(item):\n",
    "        \"\"\"definimos una lista que nos va a dar el elemento de una tupla dentro de una lista de tuplas.\n",
    "\n",
    "        Args:\n",
    "            item (str): elemento dentro de la tupla dentro de la lista.\n",
    "\n",
    "        Returns:\n",
    "            list: Nos devolvera una lista con las tuplas unida y convertidas en str.\n",
    "        \"\"\"\n",
    "        return item[0] +' '+ item[1]\n",
    "\n",
    "list(map(listrastring,lista_de_tuplas))\n"
   ]
  },
  {
   "cell_type": "code",
   "execution_count": 22,
   "metadata": {},
   "outputs": [
    {
     "name": "stdout",
     "output_type": "stream",
     "text": [
      "[1, 4, 22, -8, 0, 3]\n"
     ]
    }
   ],
   "source": [
    "#4\n",
    "numeros = [4, 8, 15, 16, 23, 42]\n",
    "numeros_2 = [5, 12, 37, 8, 23, 45]\n",
    "\n",
    "resultado_map_multiple = list(map(lambda n1, n2: n2-n1, numeros, numeros_2))\n",
    "print(resultado_map_multiple)\n"
   ]
  },
  {
   "cell_type": "code",
   "execution_count": 156,
   "metadata": {},
   "outputs": [
    {
     "data": {
      "text/plain": [
       "[('E', 'e'),\n",
       " ('B', 'b'),\n",
       " ('I', 'i'),\n",
       " ('A', 'a'),\n",
       " ('O', 'o'),\n",
       " ('U', 'u'),\n",
       " ('F', 'f')]"
      ]
     },
     "execution_count": 156,
     "metadata": {},
     "output_type": "execute_result"
    }
   ],
   "source": [
    "#5\n",
    "conjunto_caracteres = {'a', 'b', 'E', 'f', 'a', 'i', 'o', 'U', 'a'}\n",
    "\n",
    "def tupla(caracter):\n",
    "    \"\"\"funcion que llama a los caracteres del set conjunto_caracteres.\n",
    "\n",
    "    Args:\n",
    "        caracter (str): strs que estan incluidos en el set.\n",
    "\n",
    "    Returns:\n",
    "        list: devuelve una lista de tuplas con el valor en mayuscula y miniscula.\n",
    "    \"\"\"\n",
    "    return (caracter.upper(), caracter.lower())\n",
    "\n",
    "resultado = list(map(tupla, conjunto_caracteres))\n",
    "resultado\n",
    "\n"
   ]
  },
  {
   "cell_type": "markdown",
   "metadata": {},
   "source": [
    "## Ejercicio 2. Filter ()"
   ]
  },
  {
   "cell_type": "markdown",
   "metadata": {},
   "source": [
    "2.1. Crea una función que devuelva las palabras de una lista que comienzan con una letra específica. Por ejemplo:\n",
    "\n",
    "```python\n",
    "# input\n",
    "frase = 'Incluso la persona más pequeña puede cambiar el curso del futuro.'\n",
    "letra = 'p'\n",
    "\n",
    "# output\n",
    "['persona', 'pequeña', 'puede']\n",
    "```\n",
    "\n",
    "2.2. Para una lista con elementos tipo *integer* y *string*, obtén una nueva lista sólo con los valores de tipo *integer*.\n",
    "\n",
    "2.3. Escribe una función que tome una lista de nombres de mascotas como parámetro y devuelva una nueva lista excluyendo ciertas mascotas prohibidas en España. La lista de mascotas a excluir es [\"Mapache\", \"Tigre\", \"Serpiente Pitón\", \"Cocodrilo\", \"Oso\"].\n",
    "\n",
    "```python\n",
    "#input\n",
    "mascotas = ['Perro', 'Tigre', 'Gato', 'Oso', 'Erizo']\n",
    "\n",
    "# output\n",
    "['Perro', 'Gato', 'Erizo']\n",
    "```\n",
    "2.4. Escribe un programa en Python que cree una lista de diccionarios que contenga información de estudiantes (nombre, edad, calificación) y use la función filter para extraer a los estudiantes con una calificación mayor o igual a 90."
   ]
  },
  {
   "cell_type": "code",
   "execution_count": 4,
   "metadata": {},
   "outputs": [
    {
     "data": {
      "text/plain": [
       "['persona', 'pequeña', 'puede']"
      ]
     },
     "execution_count": 4,
     "metadata": {},
     "output_type": "execute_result"
    }
   ],
   "source": [
    "#1\n",
    "frase = 'Incluso la persona más pequeña puede cambiar el curso del futuro.'\n",
    "lista = frase.split()\n",
    "lista\n",
    "\n",
    "\n",
    "def empiezaporp(elem):\n",
    "    \"\"\"definimos una funcion que va a recorrer los elementos de frase.\n",
    "\n",
    "    Args:\n",
    "        elem (str): subcadena de str.\n",
    "\n",
    "    Returns:\n",
    "        list: va a devlver una lista con las subcadenas str indicadas.\n",
    "    \"\"\"\n",
    "    if elem.startswith('p'):\n",
    "        return elem\n",
    "            \n",
    "list(filter(empiezaporp,lista))\n",
    "        "
   ]
  },
  {
   "cell_type": "code",
   "execution_count": 5,
   "metadata": {},
   "outputs": [
    {
     "data": {
      "text/plain": [
       "[3, 4, 5, 6, 7]"
      ]
     },
     "execution_count": 5,
     "metadata": {},
     "output_type": "execute_result"
    }
   ],
   "source": [
    "#2\n",
    "\n",
    "listah=[3,4,5,6,7,'jaime','primo','tio']\n",
    "\n",
    "def es_int(elem):\n",
    "    \"\"\"definimos una funcion que va a recorrer los elementos de la listah y nos dira los elem int.\n",
    "\n",
    "    Args:\n",
    "        elem (int y str): puede ser un numero y una cadena de texto.\n",
    "\n",
    "    Returns:\n",
    "        list(int): nos devuelve una lista con los int que tenia la lista unicial.\n",
    "    \"\"\"\n",
    "    if type(elem) == int:\n",
    "        return True\n",
    "    else:\n",
    "        return False\n",
    "    \n",
    "list(filter(es_int,listah))\n",
    "        \n",
    "\n"
   ]
  },
  {
   "cell_type": "code",
   "execution_count": 251,
   "metadata": {},
   "outputs": [
    {
     "data": {
      "text/plain": [
       "['Perro', 'Gato', 'Erizo']"
      ]
     },
     "execution_count": 251,
     "metadata": {},
     "output_type": "execute_result"
    }
   ],
   "source": [
    "#3\n",
    "\n",
    "mascotas = ['Perro', 'Tigre', 'Gato', 'Oso', 'Erizo']\n",
    "macotasexcluidas = [\"Mapache\", \"Tigre\", \"Serpiente Pitón\", \"Cocodrilo\", \"Oso\"]\n",
    "def mascotassi(mascota):\n",
    "    \"\"\"definimos una funcion que nos diga iterando en las listas si la mascota no es excluida.\n",
    "\n",
    "    Args:\n",
    "        mascota (str): elemento en las listas.\n",
    "\n",
    "    Returns:\n",
    "        list(str):nos devuelve una lista de mascotas que no estan excluidas.\n",
    "    \"\"\"\n",
    "    if mascota not in macotasexcluidas:\n",
    "        return True\n",
    "\n",
    "   \n",
    "list(filter(mascotassi,mascotas))\n"
   ]
  },
  {
   "cell_type": "code",
   "execution_count": 271,
   "metadata": {},
   "outputs": [
    {
     "data": {
      "text/plain": [
       "[{'nombre': 'adri', 'calificacion': 91, 'edad': 20},\n",
       " {'nombre': 'ana', 'calificacion': 98, 'edad': 30}]"
      ]
     },
     "execution_count": 271,
     "metadata": {},
     "output_type": "execute_result"
    }
   ],
   "source": [
    "#4\n",
    "Diccionario = [{'nombre': 'adri', 'calificacion':91,'edad':20},\n",
    "   {'nombre': 'javi', 'calificacion':85,'edad':21},{'nombre': 'ana', 'calificacion':98,'edad':30},{'nombre': 'jony', 'calificacion':70,'edad':63}]\n",
    "\n",
    "\n",
    "def es_mayoroigual_90(estudiante):\n",
    "    \"\"\"funcion que recorre un diccionario de estudiantes y busca el valor mayor que 90 como valor.\n",
    "\n",
    "    Args:\n",
    "        estudiante (str): es la clave diccionario.\n",
    "\n",
    "    Returns:\n",
    "        diccionario: nos devuelve un diccionario con los valores de calificaciones mayores a 90.\n",
    "    \"\"\"\n",
    "    if estudiante['calificacion'] >=90:\n",
    "        return True\n",
    "    \n",
    "list(filter(es_mayoroigual_90,Diccionario))\n"
   ]
  },
  {
   "cell_type": "markdown",
   "metadata": {},
   "source": [
    "## Ejercicio 3. Reduce ()"
   ]
  },
  {
   "cell_type": "markdown",
   "metadata": {},
   "source": [
    "3.1 Crea una función que tome una lista de dígitos y devuelva el número correspondiente. Por ejemplo, [5,7,2] corresponde al número quinientos setenta y dos (572).\n",
    "\n",
    "3.2. Dada una lista de números enteros, obtén el producto total de los valores de dicha lista\n",
    "\n",
    "3.3. Concatena una lista de palabras. Por ejemplo:\n",
    "\n",
    "```python\n",
    "# input\n",
    "lista_int_str = ['Un', 'mago', 'nunca']\n",
    "\n",
    "# output\n",
    "'Unmagonunca'\n",
    "```\n",
    "\n",
    "3.4. Calcula la diferencia total en los valores de una lista, es decir, crea un programa que vaya restando todos sus elementos.\n"
   ]
  },
  {
   "cell_type": "code",
   "execution_count": 2,
   "metadata": {},
   "outputs": [
    {
     "data": {
      "text/plain": [
       "572"
      ]
     },
     "execution_count": 2,
     "metadata": {},
     "output_type": "execute_result"
    }
   ],
   "source": [
    "#1\n",
    "from functools import reduce \n",
    "lista = [5,7,2]\n",
    "\n",
    "def fun(n1,n2):\n",
    "    \"\"\"definimos una funcion que recorrre una lista y opera sobre ella.\n",
    "\n",
    "    Args:\n",
    "        n1 (int): numero perteneciente a la lista.\n",
    "        n2 (int): _numero perteneciente a la lista.\n",
    "\n",
    "    Returns:\n",
    "        int: devuelve el primer numero y el segundo por 10 mas el tercer numero de la lista.\n",
    "    \"\"\"\n",
    "    return (n1*10)+n2\n",
    "   \n",
    "resultado = reduce(fun, lista)\n",
    "\n",
    "resultado\n"
   ]
  },
  {
   "cell_type": "code",
   "execution_count": 3,
   "metadata": {},
   "outputs": [
    {
     "name": "stdout",
     "output_type": "stream",
     "text": [
      "El resultado del producto de los numero de la lista es 120\n"
     ]
    }
   ],
   "source": [
    "#2\n",
    " \n",
    "numeros = [5,4,2,3]\n",
    "\n",
    "def f(n3,n4):\n",
    "    \"\"\"definimos una funcion que recorrre una lista y opera sobre ella.\n",
    "\n",
    "    Args:\n",
    "        n3 (int): numero perteneciente a la lista.\n",
    "        n4 (int): _numero perteneciente a la lista.\n",
    "\n",
    "    Returns:\n",
    "        int: devuelve los valores multiplicados entre si dentro de la lista.\n",
    "    \"\"\"\n",
    "    return n3*n4\n",
    "\n",
    "resultado = reduce(f, numeros)\n",
    "print(f'El resultado del producto de los numero de la lista es {resultado}')"
   ]
  },
  {
   "cell_type": "code",
   "execution_count": 4,
   "metadata": {},
   "outputs": [
    {
     "data": {
      "text/plain": [
       "'Unmagonunca'"
      ]
     },
     "execution_count": 4,
     "metadata": {},
     "output_type": "execute_result"
    }
   ],
   "source": [
    "#3\n",
    "\n",
    "\n",
    "lista_int_str = ['Un', 'mago', 'nunca']\n",
    "\n",
    "def fu(e1,e2):\n",
    "    \"\"\"definimos una funcion que recorrre una lista y opera sobre ella.\n",
    "\n",
    "    Args:\n",
    "        e1 (str): valor perteneciente a la lista.\n",
    "        e2 (str): valor perteneciente a la lista.\n",
    "\n",
    "    Returns:\n",
    "        str: devuelve la suma de los str de la lista\n",
    "    \"\"\"\n",
    "    return e1+e2\n",
    "\n",
    "resultado = reduce(fu, lista_int_str)\n",
    "resultado"
   ]
  },
  {
   "cell_type": "code",
   "execution_count": 6,
   "metadata": {},
   "outputs": [
    {
     "name": "stdout",
     "output_type": "stream",
     "text": [
      "El resultado de la resta de todos los elementos es -529\n"
     ]
    }
   ],
   "source": [
    "#4\n",
    "\n",
    "numeros = [23, 1, 45, 78, 5, 12, 98, 34, 67, 3, 56, 42, 89, 15, 7]\n",
    "def resta(ee1,ee2):\n",
    "    \"\"\"definimos una funcion que recorrre una lista y opera sobre ella.\n",
    "\n",
    "    Args:\n",
    "        ee1(int): numero perteneciente a la lista.\n",
    "        ee2(int): _numero perteneciente a la lista.\n",
    "\n",
    "    Returns:\n",
    "        int:la resta total de todos los numero empezado por el elemento numero uno hasta el ultimo.\n",
    "    \"\"\"\n",
    "    return ee1-ee2\n",
    "\n",
    "resultado = reduce(resta, numeros)\n",
    "print(f'El resultado de la resta de todos los elementos es {resultado}')"
   ]
  },
  {
   "cell_type": "markdown",
   "metadata": {},
   "source": [
    "## Ejercicio 4. Ejercicios combinando las funciones"
   ]
  },
  {
   "cell_type": "markdown",
   "metadata": {},
   "source": [
    "4.1. Dada una lista de números, filtra los números positivos y calcula su promedio.\n",
    "\n",
    "4.2. Dada una lista de palabras, filtra las palabras que empiezan con una vocal, conviértelas a mayúsculas, y luego concaténalas en una sola cadena. \n",
    "\n",
    "4.3. Dada una lista numérica, filtra los números impares y calcula el producto de todos ellos \n",
    "\n",
    "4.4. Dada una lista de palabras, filtra las que contienen la letra 'a' y cuenta cuántas hay."
   ]
  },
  {
   "cell_type": "code",
   "execution_count": null,
   "metadata": {},
   "outputs": [],
   "source": []
  },
  {
   "cell_type": "code",
   "execution_count": null,
   "metadata": {},
   "outputs": [],
   "source": []
  }
 ],
 "metadata": {
  "kernelspec": {
   "display_name": "base",
   "language": "python",
   "name": "python3"
  },
  "language_info": {
   "codemirror_mode": {
    "name": "ipython",
    "version": 3
   },
   "file_extension": ".py",
   "mimetype": "text/x-python",
   "name": "python",
   "nbconvert_exporter": "python",
   "pygments_lexer": "ipython3",
   "version": "3.12.6"
  }
 },
 "nbformat": 4,
 "nbformat_minor": 2
}
